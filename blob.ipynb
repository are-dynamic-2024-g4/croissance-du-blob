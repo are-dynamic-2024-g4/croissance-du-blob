{
 "cells": [
  {
   "cell_type": "code",
   "execution_count": 1,
   "id": "24461bab-1c39-48f2-944f-20f810ed63d0",
   "metadata": {},
   "outputs": [],
   "source": [
    "# Ressources du Blob :\n",
    "\n",
    "# Variable matrice :\n",
    "lignes = 10\n",
    "colonnes = 10\n",
    "ln = 0 ; cn = 1 #coord nourriture de base \n",
    "lb = 9 ; cb = 9 # coord blob de base "
   ]
  },
  {
   "cell_type": "code",
   "execution_count": 2,
   "id": "90945df7",
   "metadata": {},
   "outputs": [
    {
     "data": {
      "text/plain": [
       "[(8, 8), (8, 9), (9, 8)]"
      ]
     },
     "execution_count": 2,
     "metadata": {},
     "output_type": "execute_result"
    }
   ],
   "source": [
    "from itertools import product\n",
    "def neighbors(coord: tuple, grid=(10, 10), diagonal=True):\n",
    "    \"\"\"retrouve les coordonnées de tous les voisins de coordonnées dans une grille de taille fixe en deux dimensions).\n",
    "\n",
    "    :param diagonal: True if you also want the diagonal neighbors, False if not\n",
    "    :param coord: Tuple with x, y coordinate\n",
    "    :param grid: the boundary of the grid in layman's terms\n",
    "    :return: the adjacent coordinates\n",
    "    \"\"\"\n",
    "    width = grid[0] - 1\n",
    "    height = grid[1] - 1\n",
    "    retx, rety = coord\n",
    "    adjacent = []\n",
    "    nb = [x for x in product([-1, 0, 1], repeat=2) if x != (0, 0)]\n",
    "    if not diagonal:\n",
    "        nb = [x for x in nb if x not in product([-1, 1], repeat=2)]\n",
    "    for x, y in nb:\n",
    "        xx = retx + x\n",
    "        yy = rety + y\n",
    "        if xx < 0 or xx > width or yy < 0 or yy > height:\n",
    "            # not within its boundaries\n",
    "            continue\n",
    "        adjacent.append((xx, yy))\n",
    "    return adjacent\n",
    "neighbors((9,9))"
   ]
  },
  {
   "cell_type": "code",
   "execution_count": 3,
   "id": "6699e2aa-ce14-47af-ba97-8865dd20c069",
   "metadata": {},
   "outputs": [
    {
     "name": "stdout",
     "output_type": "stream",
     "text": [
      "True\n",
      "[[0. 2. 0. 0. 0. 0. 0. 0. 0. 0.]\n",
      " [0. 0. 0. 0. 0. 0. 0. 0. 0. 0.]\n",
      " [0. 0. 0. 0. 0. 0. 0. 0. 0. 0.]\n",
      " [0. 0. 0. 0. 0. 0. 0. 0. 0. 0.]\n",
      " [0. 0. 0. 0. 0. 0. 0. 0. 0. 0.]\n",
      " [0. 0. 0. 0. 0. 0. 0. 0. 0. 0.]\n",
      " [0. 0. 0. 0. 0. 0. 0. 0. 0. 0.]\n",
      " [0. 0. 0. 0. 0. 0. 0. 0. 0. 0.]\n",
      " [0. 0. 0. 0. 0. 0. 0. 0. 4. 0.]\n",
      " [0. 0. 0. 0. 0. 0. 0. 0. 0. 4.]]\n"
     ]
    },
    {
     "data": {
      "image/png": "[encoded data removed]",
      "text/plain": [
       "<Figure size 500x400 with 1 Axes>"
      ]
     },
     "metadata": {},
     "output_type": "display_data"
    }
   ],
   "source": [
    "# \"Légende\" : 1 pour les murs, 2 pour la nourriture, 4 pour le blob et les endroits où celui-ci est passé, 0 pour les cases vides\n",
    "\n",
    "import numpy as np\n",
    "import math as m \n",
    "from matplotlib import pyplot as plt\n",
    "\n",
    "def matrice(l, c):\n",
    "    \"\"\" crée la matrice de taille l x c, remplie de 0\n",
    "    \"\"\"\n",
    "    return np.zeros((l, c))\n",
    "\n",
    "def placement_nourriture(mat,l, c):\n",
    "    \"\"\" place la nourriture dans la matrice à l'emplacement d'indice [l, c]\n",
    "    \"\"\"\n",
    "    mat[l, c] = 2\n",
    "\n",
    "def deplacement_blob(mat,l, c):\n",
    "    \"\"\" place le blob dans la matrice à l'emplacement d'indice [l, c]\n",
    "    \"\"\"\n",
    "    \n",
    "    mat[l, c] = 4\n",
    "\n",
    "\n",
    "def plot_world(world):\n",
    "    if type(world) == list:\n",
    "        A = np.array([world])\n",
    "    else:\n",
    "        A = world\n",
    "    plt.figure(figsize=(5,4)) # (30,30) = Taille de la figure\n",
    "    plt.imshow(A,cmap='viridis')\n",
    "    plt.tick_params(top=False, bottom=False, right=False, left=False, labelleft=False, labelbottom=False)\n",
    "    plt.show()\n",
    "\n",
    "def norme_n (x,y):\n",
    "    n = m.sqrt( (ln-x)**2 + (cn-y)**2 ) \n",
    "    return n\n",
    "\n",
    "def distance_T(A,B):\n",
    "    \"\"\"renvoie la distance de Tchebychev entre A et B\"\"\"\n",
    "    dist = max( m.fabs(A[0] - B[0]),m.fabs(A[1] - B[1])  )\n",
    "    return dist\n",
    "A = (0, 6)\n",
    "B = (0,0)\n",
    "print(distance_T(A,B) == 6.0)\n",
    "    \n",
    "def déplacement(mat, x, y):\n",
    "    coord = (x, y)\n",
    "    voisins = neighbors(coord) # liste des voisins de de l'élément de coordonnées x et y \n",
    "    voisin_min = voisins[0] # voisin le plus proche de la nourriture de base = premier élément de la liste de voisins\n",
    "    norme_min = 500000\n",
    "\n",
    "    for i in range(0, len(voisins)): # on parcourt la liste des voisins de l'élément de coordonnées x et y\n",
    "        \n",
    "        n = norme_n(voisins[i][0], voisins[i][1]) # calcul de la longueur du vecteur (voisins[i], nourriture)\n",
    "        n_valeur = mat[voisins[i][0], voisins[i][1]] # on prend la valeur de ce voisin là (pour savoir si jamais c'est un mur ou un endroit où le blob serait déjà passé)\n",
    "        \n",
    "        if n < norme_min and n_valeur == 0: # si la longueur du vecteur calculé au-dessus est + petite que la norme norme_min\n",
    "            \n",
    "            norme_min = n # on remplace cette norme minimale par la norme qu'on vient de calculer (étant donnée que le vosin est donc plus proche)\n",
    "            voisin_min = voisins[i] # et on stocke dans une variable voisin_min les coordonnées de ce voisin\n",
    "    \n",
    "    mat[voisin_min[0], voisin_min[1]]= 4 #on utilise les coordonnées du tuple voisin_min pour replacer le blob à cette endroit\n",
    "\n",
    "                \n",
    "    \n",
    "    \n",
    "\n",
    "    \n",
    "\n",
    "\n",
    "\n",
    "mat1 = matrice(lignes, colonnes)\n",
    "\n",
    "deplacement_blob(mat1, lb,cb)\n",
    "\n",
    "déplacement(mat1, 9,9)\n",
    "\n",
    "placement_nourriture(mat1, ln,cn)\n",
    "\n",
    "print(mat1)\n",
    "\n",
    "\n",
    "plot_world(mat1)  \n"
   ]
  }
 ],
 "metadata": {
  "kernelspec": {
   "display_name": "Python 3 (ipykernel)",
   "language": "python",
   "name": "python3"
  },
  "language_info": {
   "codemirror_mode": {
    "name": "ipython",
    "version": 3
   },
   "file_extension": ".py",
   "mimetype": "text/x-python",
   "name": "python",
   "nbconvert_exporter": "python",
   "pygments_lexer": "ipython3",
   "version": "3.11.5"
  }
 },
 "nbformat": 4,
 "nbformat_minor": 5
}
