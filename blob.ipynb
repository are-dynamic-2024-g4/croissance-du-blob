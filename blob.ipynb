{
 "cells": [
  {
   "cell_type": "code",
   "execution_count": null,
   "id": "24461bab-1c39-48f2-944f-20f810ed63d0",
   "metadata": {},
   "outputs": [],
   "source": [
    "#Ressources du Blob :\n"
   ]
  },
  {
   "cell_type": "code",
   "execution_count": 23,
   "id": "6699e2aa-ce14-47af-ba97-8865dd20c069",
   "metadata": {},
   "outputs": [
    {
     "name": "stdout",
     "output_type": "stream",
     "text": [
      "[[0. 2. 0. 0. 0. 0. 0. 0. 0. 0.]\n",
      " [0. 0. 0. 0. 0. 0. 0. 0. 0. 0.]\n",
      " [0. 0. 0. 0. 0. 0. 0. 0. 0. 0.]\n",
      " [0. 0. 0. 0. 0. 0. 0. 0. 0. 0.]\n",
      " [0. 0. 0. 0. 0. 0. 0. 0. 0. 0.]\n",
      " [0. 0. 0. 0. 0. 0. 0. 0. 0. 0.]\n",
      " [0. 0. 0. 0. 0. 0. 0. 0. 0. 0.]\n",
      " [0. 0. 0. 0. 0. 0. 0. 0. 0. 0.]\n",
      " [0. 0. 0. 0. 0. 0. 0. 0. 0. 0.]\n",
      " [0. 0. 0. 0. 0. 0. 0. 0. 0. 4.]]\n"
     ]
    },
    {
     "data": {
      "image/png": "[encoded data removed]",
      "text/plain": [
       "<Figure size 500x400 with 1 Axes>"
      ]
     },
     "metadata": {},
     "output_type": "display_data"
    }
   ],
   "source": [
    "# \"Légende\" : 1 pour les murs, 2 pour la nourriture, 4 pour le blob, 0 pour les cases vides\n",
    "\n",
    "import numpy as np\n",
    "\n",
    "from matplotlib import pyplot as plt\n",
    "def matrice(l, c):\n",
    "    \"\"\" crée la matrice de taille l x c, remplie de 0\n",
    "    \"\"\"\n",
    "    return np.zeros((l, c))\n",
    "\n",
    "def placement_nourriture(mat,l, c):\n",
    "    \"\"\" place la nourriture dans la matrice à l'emplacement d'indice [l, c]\n",
    "    \"\"\"\n",
    "    mat[l, c] = 2\n",
    "\n",
    "def placement_blob(mat,l, c):\n",
    "    \"\"\" place le blob dans la matrice à l'emplacement d'indice [l, c]\n",
    "    \"\"\"\n",
    "    mat[l, c] = 4\n",
    "\n",
    "def plot_world(world):\n",
    "    if type(world) == list:\n",
    "        A = np.array([world])\n",
    "    else:\n",
    "        A = world\n",
    "    plt.figure(figsize=(5,4)) # (30,30) = Taille de la figure\n",
    "    plt.imshow(A,cmap='viridis')\n",
    "    plt.tick_params(top=False, bottom=False, right=False, left=False, labelleft=False, labelbottom=False)\n",
    "    plt.show()\n",
    "\n",
    "mat1 = matrice(10, 10)\n",
    "placement_blob(mat1, 9, 9)\n",
    "placement_nourriture(mat1, 0,1)\n",
    "print(mat1)\n",
    "\n",
    "\n",
    "plot_world(mat1)  \n"
   ]
  }
 ],
 "metadata": {
  "kernelspec": {
   "display_name": "Python 3 (ipykernel)",
   "language": "python",
   "name": "python3"
  },
  "language_info": {
   "codemirror_mode": {
    "name": "ipython",
    "version": 3
   },
   "file_extension": ".py",
   "mimetype": "text/x-python",
   "name": "python",
   "nbconvert_exporter": "python",
   "pygments_lexer": "ipython3",
   "version": "3.9.6"
  }
 },
 "nbformat": 4,
 "nbformat_minor": 5
}
