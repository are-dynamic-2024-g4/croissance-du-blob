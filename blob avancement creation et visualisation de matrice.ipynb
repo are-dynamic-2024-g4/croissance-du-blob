{
 "cells": [
  {
   "cell_type": "code",
   "execution_count": null,
   "id": "24461bab-1c39-48f2-944f-20f810ed63d0",
   "metadata": {},
   "outputs": [],
   "source": [
    "#Ressources du Blob :\n"
   ]
  },
  {
   "cell_type": "code",
   "execution_count": 11,
   "id": "a17f1bec",
   "metadata": {},
   "outputs": [],
   "source": [
    "import numpy as np\n",
    "import pandas as pd\n",
    "import matplotlib.pyplot as plt"
   ]
  },
  {
   "cell_type": "code",
   "execution_count": 1,
   "id": "6699e2aa-ce14-47af-ba97-8865dd20c069",
   "metadata": {},
   "outputs": [
    {
     "name": "stdout",
     "output_type": "stream",
     "text": [
      "[[0. 2. 0. 0. 0. 0. 0. 0. 0. 0.]\n",
      " [0. 0. 0. 0. 0. 0. 0. 0. 0. 0.]\n",
      " [0. 0. 0. 0. 0. 0. 0. 0. 0. 0.]\n",
      " [0. 0. 0. 0. 0. 0. 0. 0. 0. 0.]\n",
      " [0. 0. 0. 0. 0. 0. 0. 0. 0. 0.]\n",
      " [0. 0. 0. 0. 0. 0. 0. 0. 0. 0.]\n",
      " [0. 0. 0. 0. 0. 0. 0. 0. 0. 0.]\n",
      " [0. 0. 0. 0. 0. 0. 0. 0. 0. 0.]\n",
      " [0. 0. 0. 0. 0. 0. 0. 0. 0. 0.]\n",
      " [0. 0. 0. 0. 0. 0. 0. 0. 0. 4.]]\n"
     ]
    },
    {
     "data": {
      "image/png": "[encoded data removed]",
      "text/plain": [
       "<Figure size 360x288 with 1 Axes>"
      ]
     },
     "metadata": {},
     "output_type": "display_data"
    }
   ],
   "source": [
    "# \"Légende\" : 1 pour les murs, 2 pour la nourriture, 4 pour le blob, 0 pour les cases vides\n",
    "\n",
    "import numpy as np\n",
    "\n",
    "from matplotlib import pyplot as plt\n",
    "def matrice(l, c):\n",
    "    \"\"\" crée la matrice de taille l x c, remplie de 0\n",
    "    \"\"\"\n",
    "    return np.zeros((l, c))\n",
    "\n",
    "def placement_nourriture(mat,l, c):\n",
    "    \"\"\" place la nourriture dans la matrice à l'emplacement d'indice [l, c]\n",
    "    \"\"\"\n",
    "    mat[l, c] = 2\n",
    "\n",
    "def placement_blob(mat,l, c):\n",
    "    \"\"\" place le blob dans la matrice à l'emplacement d'indice [l, c]\n",
    "    \"\"\"\n",
    "    mat[l, c] = 4\n",
    "\n",
    "def plot_world(world):\n",
    "    if type(world) == list:\n",
    "        A = np.array([world])\n",
    "    else:\n",
    "        A = world\n",
    "    plt.figure(figsize=(5,4)) # (30,30) = Taille de la figure\n",
    "    plt.imshow(A,cmap='viridis')\n",
    "    plt.tick_params(top=False, bottom=False, right=False, left=False, labelleft=False, labelbottom=False)\n",
    "    plt.show()\n",
    "\n",
    "mat1 = matrice(10, 10)\n",
    "placement_blob(mat1, 9, 9)\n",
    "placement_nourriture(mat1, 0,1)\n",
    "print(mat1)\n",
    "\n",
    "\n",
    "plot_world(mat1)  \n"
   ]
  },
  {
   "cell_type": "code",
   "execution_count": 57,
   "id": "dd13f71a",
   "metadata": {
    "scrolled": true
   },
   "outputs": [
    {
     "name": "stdout",
     "output_type": "stream",
     "text": [
      "(10, 10, 4)\n"
     ]
    },
    {
     "data": {
      "text/plain": [
       "array([[[  6,   6,   6, 255],\n",
       "        [  0,   0,   0, 255],\n",
       "        [  0,   0,   0, 255],\n",
       "        [  0,   0,   0, 255],\n",
       "        [  0,   0,   0, 255],\n",
       "        [ 48,  48,  48, 255],\n",
       "        [255, 255, 255, 255],\n",
       "        [255, 255, 255, 255],\n",
       "        [255, 255, 255, 255],\n",
       "        [255, 255, 255, 255]],\n",
       "\n",
       "       [[  0,   0,   0, 255],\n",
       "        [255, 255, 255, 255],\n",
       "        [255, 222, 105, 255],\n",
       "        [ 16,  16,  16, 255],\n",
       "        [  0,   0,   0, 255],\n",
       "        [ 16,  16,  16, 255],\n",
       "        [255, 255, 255, 255],\n",
       "        [255, 255, 255, 255],\n",
       "        [255, 255, 255, 255],\n",
       "        [255, 255, 255, 255]],\n",
       "\n",
       "       [[  0,   0,   0, 255],\n",
       "        [255, 255, 255, 255],\n",
       "        [255, 208,  44, 255],\n",
       "        [255, 255, 255, 255],\n",
       "        [  0,   0,   0, 255],\n",
       "        [255, 255, 255, 255],\n",
       "        [255, 255, 255, 255],\n",
       "        [255, 255, 255, 255],\n",
       "        [255, 255, 255, 255],\n",
       "        [255, 255, 255, 255]],\n",
       "\n",
       "       [[  0,   0,   0, 255],\n",
       "        [255, 255, 255, 255],\n",
       "        [255, 255, 255, 255],\n",
       "        [255, 255, 255, 255],\n",
       "        [  0,   0,   0, 255],\n",
       "        [255, 255, 255, 255],\n",
       "        [255, 255, 255, 255],\n",
       "        [255, 255, 255, 255],\n",
       "        [255, 255, 255, 255],\n",
       "        [255, 255, 255, 255]],\n",
       "\n",
       "       [[  0,   0,   0, 255],\n",
       "        [255, 255, 255, 255],\n",
       "        [255, 255, 255, 255],\n",
       "        [255, 255, 255, 255],\n",
       "        [  0,   0,   0, 255],\n",
       "        [255, 255, 255, 255],\n",
       "        [255, 255, 255, 255],\n",
       "        [255, 255, 255, 255],\n",
       "        [255, 255, 255, 255],\n",
       "        [255, 255, 255, 255]],\n",
       "\n",
       "       [[  0,   0,   0, 255],\n",
       "        [255, 255, 255, 255],\n",
       "        [255, 255, 255, 255],\n",
       "        [255, 255, 255, 255],\n",
       "        [  0,   0,   0, 255],\n",
       "        [255, 255, 255, 255],\n",
       "        [255, 255, 255, 255],\n",
       "        [255, 255, 255, 255],\n",
       "        [255, 255, 255, 255],\n",
       "        [255, 255, 255, 255]],\n",
       "\n",
       "       [[  0,   0,   0, 255],\n",
       "        [255, 255, 255, 255],\n",
       "        [255, 255, 255, 255],\n",
       "        [255, 255, 255, 255],\n",
       "        [ 32,  32,  32, 255],\n",
       "        [255, 255, 255, 255],\n",
       "        [255, 255, 255, 255],\n",
       "        [ 99, 107, 214, 255],\n",
       "        [ 99, 107, 214, 255],\n",
       "        [255, 255, 255, 255]],\n",
       "\n",
       "       [[  0,   0,   0, 255],\n",
       "        [255, 255, 255, 255],\n",
       "        [255, 255, 255, 255],\n",
       "        [255, 255, 255, 255],\n",
       "        [255, 255, 255, 255],\n",
       "        [255, 255, 255, 255],\n",
       "        [255, 255, 255, 255],\n",
       "        [ 75,  84, 207, 255],\n",
       "        [ 75,  84, 207, 255],\n",
       "        [255, 255, 255, 255]],\n",
       "\n",
       "       [[  0,   0,   0, 255],\n",
       "        [255, 255, 255, 255],\n",
       "        [255, 255, 255, 255],\n",
       "        [255, 255, 255, 255],\n",
       "        [255, 255, 255, 255],\n",
       "        [255, 255, 255, 255],\n",
       "        [255, 255, 255, 255],\n",
       "        [255, 255, 255, 255],\n",
       "        [255, 255, 255, 255],\n",
       "        [255, 255, 255, 255]],\n",
       "\n",
       "       [[  0,   0,   0, 255],\n",
       "        [  0,   0,   0, 255],\n",
       "        [  0,   0,   0, 255],\n",
       "        [  0,   0,   0, 255],\n",
       "        [  0,   0,   0, 255],\n",
       "        [  0,   0,   0, 255],\n",
       "        [  0,   0,   0, 255],\n",
       "        [  0,   0,   0, 255],\n",
       "        [  0,   0,   0, 255],\n",
       "        [  0,   0,   0, 255]]], dtype=uint8)"
      ]
     },
     "execution_count": 57,
     "metadata": {},
     "output_type": "execute_result"
    }
   ],
   "source": [
    "from PIL import Image\n",
    "from numpy import asarray\n",
    "\n",
    "def ImToMat(ImName):\n",
    "    im = Image.open(ImName + '.png')\n",
    "    matrice = asarray(im)\n",
    "    \n",
    "    #forme de l'array\n",
    "    print(matrice.shape)\n",
    "    \n",
    "    #return im\n",
    "    return matrice\n",
    "\n",
    "ImToMat(\"test2 blob\")"
   ]
  },
  {
   "cell_type": "code",
   "execution_count": 49,
   "id": "15384ba2",
   "metadata": {},
   "outputs": [
    {
     "data": {
      "image/png": "[encoded data removed]",
      "text/plain": [
       "<Figure size 360x288 with 1 Axes>"
      ]
     },
     "metadata": {},
     "output_type": "display_data"
    }
   ],
   "source": [
    "Noir\n",
    "\n",
    "0\n",
    "\n",
    "0\n",
    "\n",
    "0\n",
    "\n",
    "Bleu\n",
    "\n",
    "0\n",
    "\n",
    "0\n",
    "\n",
    "255\n",
    "\n",
    "Vert\n",
    "\n",
    "0\n",
    "\n",
    "255\n",
    "\n",
    "0\n",
    "\n",
    "Cyan\n",
    "\n",
    "0\n",
    "\n",
    "255\n",
    "\n",
    "255\n",
    "\n",
    "Rouge\n",
    "\n",
    "255\n",
    "\n",
    "0\n",
    "\n",
    "0\n",
    "\n",
    "Magenta\n",
    "\n",
    "255\n",
    "\n",
    "0\n",
    "\n",
    "255\n",
    "\n",
    "Jaune\n",
    "\n",
    "255\n",
    "\n",
    "255\n",
    "\n",
    "0\n",
    "\n",
    "Blanc\n",
    "\n",
    "255\n",
    "\n",
    "255\n",
    "\n",
    "255"
   ]
  },
  {
   "cell_type": "code",
   "execution_count": 80,
   "id": "2edcc012",
   "metadata": {},
   "outputs": [
    {
     "name": "stdout",
     "output_type": "stream",
     "text": [
      "(10, 10, 4)\n"
     ]
    },
    {
     "data": {
      "text/plain": [
       "array([  0,   0,   0, 255], dtype=uint8)"
      ]
     },
     "execution_count": 80,
     "metadata": {},
     "output_type": "execute_result"
    }
   ],
   "source": [
    "ImToMat(\"test2 blob\")[0][0]"
   ]
  },
  {
   "cell_type": "code",
   "execution_count": 85,
   "id": "bc8364ff",
   "metadata": {
    "scrolled": true
   },
   "outputs": [
    {
     "name": "stdout",
     "output_type": "stream",
     "text": [
      "(10, 10, 4)\n"
     ]
    },
    {
     "data": {
      "text/plain": [
       "array([[3., 3., 3., 3., 3., 0., 0., 0., 0., 0.],\n",
       "       [3., 0., 0., 0., 3., 0., 0., 0., 0., 0.],\n",
       "       [3., 0., 0., 0., 3., 0., 0., 0., 0., 0.],\n",
       "       [3., 0., 0., 0., 3., 0., 0., 0., 0., 0.],\n",
       "       [3., 0., 0., 0., 3., 0., 0., 0., 0., 0.],\n",
       "       [3., 0., 0., 0., 3., 0., 0., 0., 0., 0.],\n",
       "       [3., 0., 0., 0., 0., 0., 0., 0., 0., 0.],\n",
       "       [3., 0., 0., 0., 0., 0., 0., 0., 0., 0.],\n",
       "       [3., 0., 0., 0., 0., 0., 0., 0., 0., 0.],\n",
       "       [3., 3., 3., 3., 3., 3., 3., 3., 3., 3.]])"
      ]
     },
     "execution_count": 85,
     "metadata": {},
     "output_type": "execute_result"
    }
   ],
   "source": [
    "def normalise(arrayIm):\n",
    "    \"\"\"arrayIm de taille (x, y, 4), on veut return une matrice de taille (x, y)\"\"\"\n",
    "    x,y,_=arrayIm.shape\n",
    "    newArray=np.zeros((x,y))\n",
    "    for i in range(x):\n",
    "        for j in range(y):\n",
    "            if ((arrayIm[i][j][0]==0) and (arrayIm[i][j][1]==0) and (arrayIm[i][j][2]==0)): #noir\n",
    "                newArray[i][j]=3  #3 représente un mur\n",
    "            elif arrayIm[i][j][0]==255 and arrayIm[i][j][1]==255 and arrayIm[i][j][2]==255: #blanc\n",
    "                newArray[i][j]=0 #0 est un espace libre\n",
    "            elif arrayIm[i][j][0]==255 and arrayIm[i][j][1]==255 and arrayIm[i][j][2]==0: #jaune\n",
    "                newArray[i][j]=1 #représente une cellule du slime\n",
    "            elif arrayIm[i][j][0]==0 and arrayIm[i][j][1]==0 and arrayIm[i][j][2]==255: #bleu\n",
    "                newArray[i][j]=2 #source de nourriture\n",
    "            \n",
    "    return newArray\n",
    "\n",
    "normalise(ImToMat(\"test2 blob\"))"
   ]
  }
 ],
 "metadata": {
  "kernelspec": {
   "display_name": "Python 3",
   "language": "python",
   "name": "python3"
  },
  "language_info": {
   "codemirror_mode": {
    "name": "ipython",
    "version": 3
   },
   "file_extension": ".py",
   "mimetype": "text/x-python",
   "name": "python",
   "nbconvert_exporter": "python",
   "pygments_lexer": "ipython3",
   "version": "3.8.8"
  }
 },
 "nbformat": 4,
 "nbformat_minor": 5
}
